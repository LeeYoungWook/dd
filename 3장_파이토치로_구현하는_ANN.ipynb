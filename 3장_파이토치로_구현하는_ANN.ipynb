{
  "nbformat": 4,
  "nbformat_minor": 0,
  "metadata": {
    "colab": {
      "name": "3장  파이토치로 구현하는 ANN",
      "provenance": [],
      "collapsed_sections": [
        "Stpy1oB8Uozk",
        "Wsc1sFV4kk1g",
        "MBUN827PnY1T"
      ],
      "toc_visible": true,
      "authorship_tag": "ABX9TyOdED/lz6yJUiP21WpfvJY4",
      "include_colab_link": true
    },
    "kernelspec": {
      "name": "python3",
      "display_name": "Python 3"
    },
    "accelerator": "GPU"
  },
  "cells": [
    {
      "cell_type": "markdown",
      "metadata": {
        "id": "view-in-github",
        "colab_type": "text"
      },
      "source": [
        "<a href=\"https://colab.research.google.com/github/LeeYoungWook/dd/blob/master/3%EC%9E%A5_%ED%8C%8C%EC%9D%B4%ED%86%A0%EC%B9%98%EB%A1%9C_%EA%B5%AC%ED%98%84%ED%95%98%EB%8A%94_ANN.ipynb\" target=\"_parent\"><img src=\"https://colab.research.google.com/assets/colab-badge.svg\" alt=\"Open In Colab\"/></a>"
      ]
    },
    {
      "cell_type": "markdown",
      "metadata": {
        "id": "oQyv6F1kjqtt",
        "colab_type": "text"
      },
      "source": [
        "# **ch03.파이토치로 구현하는 ANN**"
      ]
    },
    {
      "cell_type": "markdown",
      "metadata": {
        "id": "Stpy1oB8Uozk",
        "colab_type": "text"
      },
      "source": [
        "# **#3.1 텐서와 autograd**\n",
        "\n",
        "#    3.1.1 텐서를 알아보자\n",
        "\n",
        "    *   랭크0텐서: 숫자가 하나인 스칼라\n",
        "    *   랭크1텐서: 숫자를 일려로 나열\n",
        "    *   랭크2텐서: 2차원 행렬=nxm행렬\n",
        "    *   랭크3텐서: 3차원 행렬\n",
        "    *   랭크n텐서: n차원 행렬\n",
        "\n",
        "\n",
        "\n",
        "\n",
        "\n",
        "\n",
        "\n",
        "\n",
        "\n",
        "\n"
      ]
    },
    {
      "cell_type": "code",
      "metadata": {
        "id": "LqofvcPoLQ-8",
        "colab_type": "code",
        "outputId": "f7d14570-01b0-4b53-c34a-11776203dfe9",
        "colab": {
          "base_uri": "https://localhost:8080/"
        }
      },
      "source": [
        "#랭크2텐서: 2차원 3x3행렬 표현해보기\n",
        "import torch\n",
        "x = torch.tensor([[1,2,3], [4,5,6], [7,8,9]])\n",
        "print(x)\n",
        "print(\"Size:\", x.size())\n",
        "print(\"Shape:\", x.shape)\n",
        "print(\"랭크(차원):\", x.ndimension())"
      ],
      "execution_count": 0,
      "outputs": [
        {
          "output_type": "stream",
          "text": [
            "tensor([[1, 2, 3],\n",
            "        [4, 5, 6],\n",
            "        [7, 8, 9]])\n",
            "Size: torch.Size([3, 3])\n",
            "Shape: torch.Size([3, 3])\n",
            "랭크(차원): 2\n"
          ],
          "name": "stdout"
        }
      ]
    },
    {
      "cell_type": "markdown",
      "metadata": {
        "id": "2Qb73IdadyII",
        "colab_type": "text"
      },
      "source": [
        "*   unsqueeze squeeze view로 텐서의 랭크와 shape 바꿔보기 \n",
        "\n",
        "    *   텐서의 원소 수는 그대로 유지하면서 차원과 모양을 조절할 수 있다.\n",
        "    *   원소수를 바꾸려하면 에러가 난다.\n",
        "\n",
        "\n",
        "\n"
      ]
    },
    {
      "cell_type": "code",
      "metadata": {
        "id": "Smok40hkfXj_",
        "colab_type": "code",
        "outputId": "769494b4-717b-4384-89c4-5cad593c4d49",
        "colab": {
          "base_uri": "https://localhost:8080/"
        }
      },
      "source": [
        "# unsqueeze 로 랭크 올리기 -> [ ] 한쌍이 늘어남\n",
        "x = torch.unsqueeze(x, 0)\n",
        "print(x)\n",
        "print(\"Size:\", x.size())\n",
        "print(\"Shape:\", x.shape)\n",
        "print(\"랭크(차원):\", x.ndimension())"
      ],
      "execution_count": 0,
      "outputs": [
        {
          "output_type": "stream",
          "text": [
            "tensor([[[1, 2, 3],\n",
            "         [4, 5, 6],\n",
            "         [7, 8, 9]]])\n",
            "Size: torch.Size([1, 3, 3])\n",
            "Shape: torch.Size([1, 3, 3])\n",
            "랭크(차원): 3\n"
          ],
          "name": "stdout"
        }
      ]
    },
    {
      "cell_type": "code",
      "metadata": {
        "id": "-PEiX5j9TQ_6",
        "colab_type": "code",
        "outputId": "33d62044-5fa2-4d3d-a1a6-25477d78f35b",
        "colab": {
          "base_uri": "https://localhost:8080/"
        }
      },
      "source": [
        "#squeeze 로 랭크 줄이기 -> [ ] 한쌍이 사라짐\n",
        "x = torch.squeeze(x)\n",
        "print(x)\n",
        "print(\"Size:\", x.size())\n",
        "print(\"Shape:\", x.shape) \n",
        "print(\"랭크(차원):\", x.ndimension())"
      ],
      "execution_count": 0,
      "outputs": [
        {
          "output_type": "stream",
          "text": [
            "tensor([[1, 2, 3],\n",
            "        [4, 5, 6],\n",
            "        [7, 8, 9]])\n",
            "Size: torch.Size([3, 3])\n",
            "Shape: torch.Size([3, 3])\n",
            "랭크(차원): 2\n"
          ],
          "name": "stdout"
        }
      ]
    },
    {
      "cell_type": "code",
      "metadata": {
        "id": "Ej3WLc1ETWOv",
        "colab_type": "code",
        "outputId": "9a5d02b5-9f0f-46e7-da21-744ee2676ba8",
        "colab": {
          "base_uri": "https://localhost:8080/"
        }
      },
      "source": [
        "# view로 랭크 줄이기 -> 랭크1로 바뀜\n",
        "x = x.view(9)\n",
        "print(x)\n",
        "print(\"Size:\", x.size())\n",
        "print(\"Shape:\", x.shape)\n",
        "print(\"랭크(차원):\", x.ndimension())"
      ],
      "execution_count": 0,
      "outputs": [
        {
          "output_type": "stream",
          "text": [
            "tensor([1, 2, 3, 4, 5, 6, 7, 8, 9])\n",
            "Size: torch.Size([9])\n",
            "Shape: torch.Size([9])\n",
            "랭크(차원): 1\n"
          ],
          "name": "stdout"
        }
      ]
    },
    {
      "cell_type": "code",
      "metadata": {
        "id": "DXVcq6ZOTayn",
        "colab_type": "code",
        "outputId": "7780fb5d-a37e-4013-fec6-f5718ed8c707",
        "colab": {
          "base_uri": "https://localhost:8080/"
        }
      },
      "source": [
        "#원소가 9개인 텐서를 2x4 즉, 원소가 8개인 텐서로 바꾸려 할때 에러가 난다.\n",
        "try:\n",
        "    x = x.view(2,4)\n",
        "except Exception as e:\n",
        "    print(e) #에러 출력"
      ],
      "execution_count": 0,
      "outputs": [
        {
          "output_type": "stream",
          "text": [
            "shape '[2, 4]' is invalid for input of size 9\n"
          ],
          "name": "stdout"
        }
      ]
    },
    {
      "cell_type": "markdown",
      "metadata": {
        "id": "Wsc1sFV4kk1g",
        "colab_type": "text"
      },
      "source": [
        "#   3.1.2 텐서를 이용한 연산과 행렬곱\n",
        "\n",
        "    *   A.B라는 두 행렬곱을 하려면 A행렬의 열과, B행렬의 행이 같아야한다. \n",
        "    *   A*B행렬의 행 개수는 A와 같고, 열의 개수는 B와 같다."
      ]
    },
    {
      "cell_type": "code",
      "metadata": {
        "id": "L432eC2WTdPH",
        "colab_type": "code",
        "outputId": "a0195515-cb61-45a6-fd34-e4b9f9ac3bcf",
        "colab": {
          "base_uri": "https://localhost:8080/"
        }
      },
      "source": [
        "#무작위 5x3인 무작위 행렬w과 / 3x2행렬인 x를 행렬곱해본다.\n",
        "import torch\n",
        "\n",
        "w = torch.randn(5,3, dtype=torch.float)\n",
        "x = torch.tensor([[1.0,2.0], [3.0,4.0], [5.0,6.0]])\n",
        "print(\"w size:\", w.size())\n",
        "print(\"x size:\", x.size())\n",
        "print(\"w:\", w)\n",
        "print(\"x:\", x)\n"
      ],
      "execution_count": 0,
      "outputs": [
        {
          "output_type": "stream",
          "text": [
            "w size: torch.Size([5, 3])\n",
            "x size: torch.Size([3, 2])\n",
            "w: tensor([[-1.0153, -1.4181, -0.6013],\n",
            "        [-0.3102,  0.6347, -1.5241],\n",
            "        [-0.7431,  0.7808,  0.2890],\n",
            "        [-0.6492, -0.2625, -0.1983],\n",
            "        [-1.9717, -0.4152, -0.3936]])\n",
            "x: tensor([[1., 2.],\n",
            "        [3., 4.],\n",
            "        [5., 6.]])\n"
          ],
          "name": "stdout"
        }
      ]
    },
    {
      "cell_type": "code",
      "metadata": {
        "id": "m3DqNP3STnmY",
        "colab_type": "code",
        "outputId": "5ecf4c2d-efcd-4ca7-cb55-b413df250dff",
        "colab": {
          "base_uri": "https://localhost:8080/"
        }
      },
      "source": [
        "# w의 행은 5, x의 열은 2, 즉 shape는 [5, 2]입니다.\n",
        "wx = torch.mm(w,x) \n",
        "print(\"wx size:\", wx.size())\n",
        "print(\"wx:\", wx)"
      ],
      "execution_count": 0,
      "outputs": [
        {
          "output_type": "stream",
          "text": [
            "wx size: torch.Size([5, 2])\n",
            "wx: tensor([[ -8.2761, -11.3107],\n",
            "        [ -6.0265,  -7.2260],\n",
            "        [  3.0442,   3.3708],\n",
            "        [ -2.4283,  -3.5383],\n",
            "        [ -5.1855,  -7.9660]])\n"
          ],
          "name": "stdout"
        }
      ]
    },
    {
      "cell_type": "code",
      "metadata": {
        "id": "LLrYRSRXTjEQ",
        "colab_type": "code",
        "colab": {}
      },
      "source": [
        "# 5x2 무작위 행렬 b와 wx와 행렬의 합을 해본다.\n",
        "b = torch.randn(5,2, dtype=torch.float)\n",
        "print(\"b:\", b.size())\n",
        "print(\"b:\", b)\n",
        "b: torch.Size([5, 2])\n",
        "b: tensor([[ 0.0527, -0.6271],\n",
        "        [ 2.0694, -0.1230],\n",
        "        [-0.0547, -1.9402],\n",
        "        [ 1.5693,  0.8898],\n",
        "        [ 0.2837,  1.1724]])"
      ],
      "execution_count": 0,
      "outputs": []
    },
    {
      "cell_type": "code",
      "metadata": {
        "id": "wOlb0tp2TqoB",
        "colab_type": "code",
        "outputId": "110ad47b-c2c5-4aed-d055-7990ea89b23f",
        "colab": {
          "base_uri": "https://localhost:8080/"
        }
      },
      "source": [
        "# 무작위 함수 w . b때문에 결과가 항상 다르게 나온다.\n",
        "result = wx + b\t\n",
        "print(\"result size:\", result.size()) \n",
        "print(\"result:\", result)"
      ],
      "execution_count": 0,
      "outputs": [
        {
          "output_type": "stream",
          "text": [
            "result size: torch.Size([5, 2])\n",
            "result: tensor([[ -9.0950, -10.3773],\n",
            "        [ -6.1578,  -8.0850],\n",
            "        [  2.8345,   3.7531],\n",
            "        [ -1.7689,  -3.3337],\n",
            "        [ -6.6929,  -7.9551]])\n"
          ],
          "name": "stdout"
        }
      ]
    },
    {
      "cell_type": "markdown",
      "metadata": {
        "id": "MBUN827PnY1T",
        "colab_type": "text"
      },
      "source": [
        "#  3.1.3 Autograd (자동기울기) 알아보기\n",
        "\n",
        "> 수식의 기울기를 자동으로 계산한다.\n",
        "\n",
        "    *   거리 : 머신러닝의 예측 결과와 실제 데이터의 차이\n",
        "    *   오차 : 거리들의 평균 \n",
        "\n",
        "> 오차가 작은 머신러닝 모델일수록 더 정확하다.\n",
        "\n",
        "\n",
        " \n",
        "\n"
      ]
    },
    {
      "cell_type": "markdown",
      "metadata": {
        "id": "pgjxFIp7phQc",
        "colab_type": "text"
      },
      "source": [
        "*   경사하강법에 대해 알아보기\n",
        "> 함수를 미분하여 기울기를 구해 오차의 최소값이 있는 방향을 찾아내는 알고리즘으로 Autograd로 구현할 수 있다.\n",
        "\n",
        "\n",
        "\n",
        "\n"
      ]
    },
    {
      "cell_type": "code",
      "metadata": {
        "id": "BhSLAvj_Tswx",
        "colab_type": "code",
        "outputId": "47fad818-9c06-4fef-cc00-ae1b773ed425",
        "colab": {
          "base_uri": "https://localhost:8080/"
        }
      },
      "source": [
        "# 값이 1.0인 스칼라 텐서 w를 정의하고, requires_grad를 True로 설정하여 Autograd 기능이 자동으로 계산할 때 w에 대한 기울기를 저장한다.\n",
        "\n",
        "import torch\n",
        "w = torch.tensor(1.0, requires_grad=True)\n",
        "a = w*3 \n",
        "l = a**2 # I=a^2=9w^2\n",
        "l.backward()  # backward()함수로 a와 w를 차례로 미분한다.\n",
        "print(w.grad)\n",
        "print('l을 w로 미분한 값은 {}'.format(w.grad))"
      ],
      "execution_count": 0,
      "outputs": [
        {
          "output_type": "stream",
          "text": [
            "tensor(18.)\n",
            "l을 w로 미분한 값은 18.0\n"
          ],
          "name": "stdout"
        }
      ]
    },
    {
      "cell_type": "markdown",
      "metadata": {
        "id": "GbEB73cruQGq",
        "colab_type": "text"
      },
      "source": [
        "# **#3.2 경사하강법으로 이미지 복원하기**\n",
        "\n",
        "\n",
        "\n",
        "\n",
        "\n",
        "# 3.2.1 오염된 이미지 복원하기\n",
        "\n",
        "1.   오염된 이미지와 크기가 같은 랜덤 텐서를 생성한다.\n",
        "2.   랜덤 텐서를 버그가 발생한 weird_function() 함수에 입력해 똑같이 오염된 이미지를 '가설'한다.\n",
        "\n",
        "3.   가설과 오염된 이미지가 같다면, 무작위 이미지와 원본 이미지도 같을 것이다.\n",
        "4.   그러므로 weird_funtion(랜덤텐서)=broken_image 관계가 성립하도록 만든다.\n",
        "\n",
        "---\n",
        "\n",
        "\n",
        "*   가설 이미지와 원본 이미지 사이의 거리가 오차다\n",
        "*   Autograd를 이용하여 기울기가 작아지는 방향을 찾아 오차값이 최솟값이 되도록 랜덤 탠서를 바꿔준다\n",
        "\n",
        "---\n",
        "\n",
        "\n",
        "\n",
        "\n",
        "\n",
        "\n",
        "\n",
        "\n",
        "\n"
      ]
    },
    {
      "cell_type": "code",
      "metadata": {
        "id": "msDvaCBI0alO",
        "colab_type": "code",
        "outputId": "d525b65d-23db-4879-9656-a87bfa564034",
        "colab": {
          "base_uri": "https://localhost:8080/",
          "height": 286
        }
      },
      "source": [
        "# pickle : 오염된 이미지 파일을 로딩하는데 사용하는 라이브러리\n",
        "# matplotlib=plt : 오염된 이미지와 복원된 이미지를 출력하는데 사용하는데 라이브러리 \n",
        "# 랭크1의 10000개의 원소인 broken_image을 맷플롯립을 이용해서 랭크2 (100 100) 행렬로 나타낸다.\n",
        "\n",
        "import torch\n",
        "import pickle\n",
        "import matplotlib.pyplot as plt\n",
        "broken_image =  torch.FloatTensor( pickle.load(open('/content/drive/My Drive/Colab Notebooks/broken_image_t.p', 'rb'),encoding='latin1' ) )\n",
        "plt.imshow(broken_image.view(100,100))"
      ],
      "execution_count": 0,
      "outputs": [
        {
          "output_type": "execute_result",
          "data": {
            "text/plain": [
              "<matplotlib.image.AxesImage at 0x7f68e012e668>"
            ]
          },
          "metadata": {
            "tags": []
          },
          "execution_count": 81
        },
        {
          "output_type": "display_data",
          "data": {
            "image/png": "[encoded data removed]",
            "text/plain": [
              "<Figure size 432x288 with 1 Axes>"
            ]
          },
          "metadata": {
            "tags": []
          }
        }
      ]
    },
    {
      "cell_type": "code",
      "metadata": {
        "id": "QTUGWPcOc6KS",
        "colab_type": "code",
        "outputId": "ab0a25cf-02c2-4915-8775-b92a5db6410e",
        "colab": {
          "base_uri": "https://localhost:8080/",
          "height": 34
        }
      },
      "source": [
        "from google.colab import drive\n",
        "drive.mount('/content/drive')"
      ],
      "execution_count": 0,
      "outputs": [
        {
          "output_type": "stream",
          "text": [
            "Drive already mounted at /content/drive; to attempt to forcibly remount, call drive.mount(\"/content/drive\", force_remount=True).\n"
          ],
          "name": "stdout"
        }
      ]
    },
    {
      "cell_type": "code",
      "metadata": {
        "id": "ioteNEDp8iXj",
        "colab_type": "code",
        "colab": {}
      },
      "source": [
        "#이미지를 오염시키는 weird_funtion() 함수\n",
        "\n",
        "def weird_function(x, n_iter=5):\n",
        "    h = x    \n",
        "    filt = torch.tensor([-1./3, 1./3, -1./3])\n",
        "    for i in range(n_iter):\n",
        "        zero_tensor = torch.tensor([1.0*0])\n",
        "        h_l = torch.cat( (zero_tensor, h[:-1]), 0)\n",
        "        h_r = torch.cat((h[1:], zero_tensor), 0 )\n",
        "        h = filt[0] * h + filt[2] * h_l + filt[1] * h_r\n",
        "        if i % 2 == 0:\n",
        "            h = torch.cat( (h[h.shape[0]//2:],h[:h.shape[0]//2]), 0  )\n",
        "    return h"
      ],
      "execution_count": 0,
      "outputs": []
    },
    {
      "cell_type": "code",
      "metadata": {
        "id": "P-i3RUiy8uII",
        "colab_type": "code",
        "colab": {}
      },
      "source": [
        "# broken 이미지와 같은 랭크와 모양인 랭크2 (100 100) 무작위 랜덤텐서를 생성한다.\n",
        "\n",
        "random_tensor = torch.randn(10000, dtype = torch.float)"
      ],
      "execution_count": 0,
      "outputs": []
    },
    {
      "cell_type": "code",
      "metadata": {
        "id": "6bH2t8208oU5",
        "colab_type": "code",
        "colab": {}
      },
      "source": [
        "# weiid_function() 함수에 무작위 텐서를 넣어서 얻은 가설 텐서와 오염된 이미지 사이의 거리를 구할 torch.dist() 함수를 구현한다.\n",
        "\n",
        "def distance_loss(hypothesis, broken_image):    \n",
        "    return torch.dist(hypothesis, broken_image)"
      ],
      "execution_count": 0,
      "outputs": []
    },
    {
      "cell_type": "markdown",
      "metadata": {
        "id": "RO8At5mmhk-J",
        "colab_type": "text"
      },
      "source": [
        "**경사하강법으로 여러 번 반복해서 최솟점을 찾아가는데 이 때,\n",
        "학습을 어느 정도로 할지 학습률을 설정한다**\n",
        "\n",
        "\n",
        "*   학습률이 너무 크면 최소값을 찾지 못하고 지나치게 되고\n",
        "*   학습률이 너무 작으면 속도가 너무 느려서 적당한 학습률 설정이 하다\n",
        "\n",
        "\n",
        "\n"
      ]
    },
    {
      "cell_type": "code",
      "metadata": {
        "id": "Xec_JimsgjES",
        "colab_type": "code",
        "outputId": "0721fd49-5411-4c16-b106-4ee851882c79",
        "colab": {
          "base_uri": "https://localhost:8080/",
          "height": 369
        }
      },
      "source": [
        "# Ir= 0.8로 학습률 설정\n",
        "\n",
        "lr = 0.8\n",
        "\n",
        "# 랜덤 텐서의 requires_grad를 True로 설정하여 오차 함수를 랜덤 텐서로 미분 할 수 있게 준비한다...\n",
        "\n",
        "for i in range(0,20000):\n",
        "    random_tensor.requires_grad_(True)\n",
        "    \n",
        "# 랜덤 텐서를 weird_function() 함수에 넣어 가설을 구한다.\n",
        "# distance_loss()함수에 가설과 broken image를 넣어 오차를 계산한다.\n",
        "# backward() 함수로 오차를 랜덤 텐서로 미분한다\n",
        "\n",
        "    hypothesis = weird_function(random_tensor)\n",
        "    loss = distance_loss(hypothesis, broken_image)\n",
        "    loss.backward()\n",
        "\n",
        "# 파라미터(가중치)가 모두 같다면 최종 손실값에 대한 미분값도 모두 같아지기 때문에 torch.no_grad() 함수로 가중치를 적절한 값들로 초기화한다...\n",
        "\n",
        "    with torch.no_grad():\n",
        "        random_tensor = random_tensor - lr*random_tensor.grad\n",
        "\n",
        "# 계산한 오차의 기울기값에는 최댓값으로 가는 방향이 들어 있기때문에, 반대방향으로 가도록 학습률만큼 이동시킨다. \n",
        "\n",
        "    if i % 1000 == 0:\n",
        "        print('Loss at {} = {}'.format(i, loss.item()))"
      ],
      "execution_count": 0,
      "outputs": [
        {
          "output_type": "stream",
          "text": [
            "Loss at 0 = 12.229721069335938\n",
            "Loss at 1000 = 1.1395131349563599\n",
            "Loss at 2000 = 0.5586321353912354\n",
            "Loss at 3000 = 0.390069842338562\n",
            "Loss at 4000 = 0.3100281357765198\n",
            "Loss at 5000 = 0.2613084018230438\n",
            "Loss at 6000 = 0.22642190754413605\n",
            "Loss at 7000 = 0.19859491288661957\n",
            "Loss at 8000 = 0.17482830584049225\n",
            "Loss at 9000 = 0.15364791452884674\n",
            "Loss at 10000 = 0.134249746799469\n",
            "Loss at 11000 = 0.11614996194839478\n",
            "Loss at 12000 = 0.09903232008218765\n",
            "Loss at 13000 = 0.0826781839132309\n",
            "Loss at 14000 = 0.0669296458363533\n",
            "Loss at 15000 = 0.051670417189598083\n",
            "Loss at 16000 = 0.03681526333093643\n",
            "Loss at 17000 = 0.02230466529726982\n",
            "Loss at 18000 = 0.021163295954465866\n",
            "Loss at 19000 = 0.02116706781089306\n"
          ],
          "name": "stdout"
        }
      ]
    },
    {
      "cell_type": "code",
      "metadata": {
        "id": "iwk5clcsfOnp",
        "colab_type": "code",
        "outputId": "aadbf866-c0eb-4f1b-f17a-3fe34425ca17",
        "colab": {
          "base_uri": "https://localhost:8080/",
          "height": 286
        }
      },
      "source": [
        "# 1000번 계산할때마다 오차를 출력해서 이미지를 복원한다.\n",
        "\n",
        "plt.imshow(random_tensor.view(100,100).data)"
      ],
      "execution_count": 0,
      "outputs": [
        {
          "output_type": "execute_result",
          "data": {
            "text/plain": [
              "<matplotlib.image.AxesImage at 0x7f68e0051e10>"
            ]
          },
          "metadata": {
            "tags": []
          },
          "execution_count": 88
        },
        {
          "output_type": "display_data",
          "data": {
            "image/png": "[encoded data removed]",
            "text/plain": [
              "<Figure size 432x288 with 1 Axes>"
            ]
          },
          "metadata": {
            "tags": []
          }
        }
      ]
    },
    {
      "cell_type": "markdown",
      "metadata": {
        "id": "xAHMdI3c2qlv",
        "colab_type": "text"
      },
      "source": [
        "# **# 3.3 신경망 모델 구현하기**\n",
        "\n",
        "\n"
      ]
    },
    {
      "cell_type": "markdown",
      "metadata": {
        "id": "PVdsJTcRws_x",
        "colab_type": "text"
      },
      "source": [
        "# **3.3.1 인공 신경망(ANN)**\n",
        "\n",
        "\n",
        "\n",
        "> 인간의 뇌, 혹은 신경계의 작동 방식을 참고하여, 수학적 연산으로 입력된 자극을 처리하는 인공 뉴런이다.\n",
        "\n",
        "\n",
        "![1](https://raw.githubusercontent.com/LeeYoungWook/duddnr0817/360cbfd258e568fe1acf27d809a4fcde825fae05/1.PNG?token=AOONVD2HH6FTGNL4KXXLCG26HE674)\n",
        "\n",
        "\n",
        "\n",
        "\n",
        "*   입력층 : 자극을 입력받는 부분\n",
        "*   은닉층 : 자극을 전달하는 과정이 일어나는 부분\n",
        "*   출력층 : 자극이 반응으로 나타나는 부분\n",
        "\n",
        "\n",
        "\n",
        "\n",
        "---\n",
        "![2](https://raw.githubusercontent.com/LeeYoungWook/duddnr0817/a4a2eda9d2d54d937159413fe0dcb61c56b67028/2.PNG?token=AOONVD7QS44WH4DDJYG552S6HE7DGG)\n",
        "\n",
        "\n",
        "\n",
        "> 즉, 각 층에 존재하는 매개변수인 가중치에 형랠곱하고 편향을 더해서 활성화 함수를 거쳐서 결과값을 만들어내는 것이다.\n",
        "\n",
        "\n",
        "> 결과값과 정답사이의 오차를 계산하여, 역전파 알고리즘을 통해 출력층의 가중치부터 입력층의 가중치까지 뒤에서 부터 모두 경사하강법을 통해 조정해서 정답에 가까워져야 한다.\n",
        "\n",
        "\n",
        "\n",
        "\n",
        "\n",
        "\n"
      ]
    },
    {
      "cell_type": "markdown",
      "metadata": {
        "id": "gX6H5fH-wUYC",
        "colab_type": "text"
      },
      "source": [
        "# **3.3.2 분류 모델 구현하기**\n",
        "\n",
        "\n",
        "\n",
        "*   0과 1로 된 정답을 가진 데이터셋을 생성해서 신경망 모델을 학습하여 입력된 데이터를 0과 1중 알맞은 카테고리로 분류해본다.\n",
        "\n",
        "\n"
      ]
    },
    {
      "cell_type": "code",
      "metadata": {
        "id": "MZdbQZdnHHtY",
        "colab_type": "code",
        "colab": {}
      },
      "source": [
        "# 넘파이: 행렬과 백터 연사에 유용한 수치해석용 라이브러리\n",
        "# 사이킷런: 머신러닝용 라이브러리로 \n",
        "# 넘파이와 사이킷런으로 학습 데이터를 만든다.\n",
        "\n",
        "# 맷플릇립: 학습 데이터의 분포와 패턴을 시각화 하는데 사용\n",
        "\n",
        "import torch\n",
        "import numpy\n",
        "from sklearn.datasets import make_blobs\n",
        "import matplotlib.pyplot as plt\n",
        "import torch.nn.functional as F\n"
      ],
      "execution_count": 0,
      "outputs": []
    },
    {
      "cell_type": "code",
      "metadata": {
        "id": "N7ThUg_gHgRj",
        "colab_type": "code",
        "colab": {}
      },
      "source": [
        "# train 데이터셋은 신경망 학습에 쓰인다\n",
        "# test 데이터셋은 학습이 끝난 신경망의 성능을 평가하고 실험한다.\n",
        "# make_blobs() 함수는 데이터를 2차원 백터로 만들어 준다\n",
        "\n",
        "n_dim = 2\n",
        "x_train, y_train = make_blobs(n_samples=80, n_features=n_dim, centers=[[1,1],[-1,-1],[1,-1],[-1,1]], shuffle=True, cluster_std=0.3)\n",
        "x_test, y_test = make_blobs(n_samples=20, n_features=n_dim, centers=[[1,1],[-1,-1],[1,-1],[-1,1]], shuffle=True, cluster_std=0.3)"
      ],
      "execution_count": 0,
      "outputs": []
    },
    {
      "cell_type": "code",
      "metadata": {
        "id": "9_-Y_DobHkhw",
        "colab_type": "code",
        "colab": {}
      },
      "source": [
        "#4개의 레이블을 2개로 합쳐서 기본적인 모델을 구현한다.\n",
        "#label_map()함수로 0,1 데이터는 전부 0번 레이블로 \n",
        "#                  2,3 데이터는 전부 1번 테이블로 바꿔준다.\n",
        "\n",
        "def label_map(y_, from_, to_):\n",
        "    y = numpy.copy(y_)\n",
        "    for f in from_:\n",
        "        y[y_ == f] = to_\n",
        "    return y\n",
        "\n",
        "y_train = label_map(y_train, [0, 1], 0)\n",
        "y_train = label_map(y_train, [2, 3], 1)\n",
        "y_test = label_map(y_test, [0, 1], 0)\n",
        "y_test = label_map(y_test, [2, 3], 1)"
      ],
      "execution_count": 0,
      "outputs": []
    },
    {
      "cell_type": "code",
      "metadata": {
        "id": "JUXOxbIcHnBZ",
        "colab_type": "code",
        "outputId": "d0e0e55c-7409-469c-acbc-4e092c20202b",
        "colab": {
          "base_uri": "https://localhost:8080/",
          "height": 266
        }
      },
      "source": [
        "#맷플릇립으로 데이터가 제대로 만들어지고 레이블링됬는지 확인한다.\n",
        "#왼쪽 아래와 오른쪽 위 데이터는 0을 레이블로\n",
        "#오른쪽 아래와 왼쪽 위는 1을 레이블로 갖게 된다.\n",
        "\n",
        "def vis_data(x,y = None, c = 'r'):\n",
        "    if y is None:\n",
        "        y = [None] * len(x)\n",
        "    for x_, y_ in zip(x,y):\n",
        "        if y_ is None:\n",
        "            plt.plot(x_[0], x_[1], '*',markerfacecolor='none', markeredgecolor=c)\n",
        "        else:\n",
        "            plt.plot(x_[0], x_[1], c+'o' if y_ == 0 else c+'+')\n",
        "\n",
        "plt.figure()\n",
        "vis_data(x_train, y_train, c='r')\n",
        "plt.show()"
      ],
      "execution_count": 0,
      "outputs": [
        {
          "output_type": "display_data",
          "data": {
            "image/png": "[encoded data removed]",
            "text/plain": [
              "<Figure size 432x288 with 1 Axes>"
            ]
          },
          "metadata": {
            "tags": []
          }
        }
      ]
    },
    {
      "cell_type": "code",
      "metadata": {
        "id": "cuHl8X3LHu4r",
        "colab_type": "code",
        "outputId": "44a5ed38-14bf-4954-b0df-95f35817636e",
        "colab": {
          "base_uri": "https://localhost:8080/",
          "height": 34
        }
      },
      "source": [
        "#넘파이 백터 형식 데이터를 파이토치 텐서로 바꿔준다\n",
        "\n",
        "x_train = torch.FloatTensor(x_train)\n",
        "print(x_train.shape)\n",
        "x_test = torch.FloatTensor(x_test)\n",
        "y_train = torch.FloatTensor(y_train)\n",
        "y_test = torch.FloatTensor(y_test)"
      ],
      "execution_count": 0,
      "outputs": [
        {
          "output_type": "stream",
          "text": [
            "torch.Size([80, 2])\n"
          ],
          "name": "stdout"
        }
      ]
    },
    {
      "cell_type": "code",
      "metadata": {
        "id": "MdAvks-ZJSj8",
        "colab_type": "code",
        "colab": {}
      },
      "source": [
        "#신경망의 구조와 동작을 정의한다.\n",
        "\n",
        "#nn_Module로 파이토치의 각종 도구를 사용한다\n",
        "#___init___() 함수로 객체의 속성값을 초기화한다.\n",
        "#super() 함수로 nn_Module 클래스의 속성을 초기화한다.  .\n",
        "#input_size 신경망에 입력되는 데이터\n",
        "#hidden_size 입력된 데이터는 중간층을 지나 출력층으로 전달된다\n",
        "\n",
        "class NeuralNet(torch.nn.Module):\n",
        "        def __init__(self, input_size, hidden_size):\n",
        "            super(NeuralNet, self).__init__()\n",
        "            self.input_size = input_size\n",
        "            self.hidden_size  = hidden_size\n",
        "\n",
        "#linear_1 은  [self.input_size, self.hidden_size] 크기의 가중치를 행렬곱하고 편향을 더 하여 [1. hidden_size] 꼴의 텐서를 만든다.\n",
        "\n",
        "            self.linear_1 = torch.nn.Linear(self.input_size, self.hidden_size)\n",
        "\n",
        "#활성화 함수인 ReLU로 입력값이 0 보다 작으면 0 ,  0보다 크면 그대로 출력한다.            \n",
        "            \n",
        "            self.relu = torch.nn.ReLU()\n",
        "\n",
        "#linear_2 은 [self hidden_size, 1] 크기의 가중치를 행렬곱하고 편향을 더하여 [1, 1] 꼴의 텐서를 만든다\n",
        "\n",
        "            self.linear_2 = torch.nn.Linear(self.hidden_size, 1)\n",
        "\n",
        "#0과 1사이의 임의의 수로 제한해주는 시그로이드 함수에 통과시켜 결과값이 0과 1에 중 어디에 가까운지 알 수 있다.\n",
        "\n",
        "            self.sigmoid = torch.nn.Sigmoid()\n",
        "            \n",
        "#forward() 함수로 정의한 동작들을 차례로 실행한다.\n",
        "\n",
        "        def forward(self, input_tensor):\n",
        "            linear1 = self.linear_1(input_tensor)\n",
        "            relu = self.relu(linear1)\n",
        "            linear2 = self.linear_2(relu)\n",
        "            output = self.sigmoid(linear2)\n",
        "            return output"
      ],
      "execution_count": 0,
      "outputs": []
    },
    {
      "cell_type": "code",
      "metadata": {
        "id": "li2hAVJmJThi",
        "colab_type": "code",
        "colab": {}
      },
      "source": [
        "# 실제로 신경망 객체를 생성하고 학습에 필요한 변수와 알고리즘을 정의한다.\n",
        "\n",
        "# input을 2 hidden을 5로 설정한다\n",
        "\n",
        "model = NeuralNet(2, 5)\n",
        "\n",
        "#학습률을 설정 0/03으로 설정한다.\n",
        "\n",
        "learning_rate = 0.03\n",
        "\n",
        "#파이토치에서 제공하는 오차 함수 중 1가지인 BCELoss()함수를 사용한다.\n",
        "\n",
        "criterion = torch.nn.BCELoss()\n",
        "\n",
        "#학습을 얼마나 할지 설정한다.\n",
        "\n",
        "epochs = 2000\n",
        "\n",
        "#파이토치에서 제공하는 확률적 경사하강법(SGD) 를 사용하겠다. \n",
        "#optimizer은 가중치를 학습률만큼 갱신한다 (가중치를 갱신하지 않으면 값이 그대로다)\n",
        "\n",
        "optimizer = torch.optim.SGD(model.parameters(), lr = learning_rate)"
      ],
      "execution_count": 0,
      "outputs": []
    },
    {
      "cell_type": "code",
      "metadata": {
        "id": "1KuS-zDYJVFy",
        "colab_type": "code",
        "outputId": "646974fc-f3eb-416c-d9aa-6f6a44aff69d",
        "colab": {
          "base_uri": "https://localhost:8080/",
          "height": 34
        }
      },
      "source": [
        "# 사용할 모델의 성능을 시험해보겠다 \n",
        "# squeeze()함수로 차원을 맞춰주고 item() 함수로 텐서 속의 숫자를 스칼라 값으로 변환한다.\n",
        "-> 오차가 0.73 -> 100번중 73번 틀린다= 쓸모없다\n",
        "\n",
        "model.eval()\n",
        "test_loss_before = criterion(model(x_test).squeeze(), y_test)\n",
        "print('Before Training, test loss is {}'.format(test_loss_before.item()))"
      ],
      "execution_count": 0,
      "outputs": [
        {
          "output_type": "stream",
          "text": [
            "Before Training, test loss is 0.7322440147399902\n"
          ],
          "name": "stdout"
        }
      ]
    },
    {
      "cell_type": "markdown",
      "metadata": {
        "id": "NGkoy-RJXy3m",
        "colab_type": "text"
      },
      "source": [
        "# 3.3.3 이제 신경망을 학습시켜 성능을 개선해보겠다"
      ]
    },
    {
      "cell_type": "code",
      "metadata": {
        "id": "E-opo6cNJg8s",
        "colab_type": "code",
        "outputId": "a4c87e7f-6908-4864-d804-4ee519b0a6f4",
        "colab": {
          "base_uri": "https://localhost:8080/",
          "height": 369
        }
      },
      "source": [
        "# 이폭만큼 반복하는것을 입력한다.\n",
        "\n",
        "for epoch in range(epochs):\n",
        "\n",
        "# train()함수로 학습 모드로 바꿔주고 zero_grad()함수로 경사값(기울기)를 0으로 설정한다\n",
        "# 경사값을 0으로 안해주면 최소나 최대를 향해 간다. \n",
        "\n",
        "    model.train()\n",
        "    optimizer.zero_grad()\n",
        "\n",
        "#학습 데이터를 입력하여 결과값을 계산한다\n",
        "\n",
        "    train_output = model(x_train)\n",
        "\n",
        "#결과값을 squeeze함수로 랭크를 늘려서 레이블과 같은 차원으로 만들고 오차를 계산한다.\n",
        "\n",
        "    train_loss = criterion(train_output.squeeze(), y_train)\n",
        "\n",
        "#100번 입력마다 오차를 출력한다.\n",
        "\n",
        "    if epoch % 100 == 0:\n",
        "        print('Train loss at {} is {}'.format(epoch, train_loss.item()))\n",
        "\n",
        "# 역전파를 수행한다. \n",
        "# 오염된 이미지를 복원할때 처럼 optimizer 함수를 이용해서\n",
        "# 오차를 가중치로 미분하여 오차가 최소가 되는 방향을 구하고, 그 방향으로 모델을 학습률만큼 이동시킨다.    \n",
        "    \n",
        "    train_loss.backward()\n",
        "    optimizer.step()"
      ],
      "execution_count": 0,
      "outputs": [
        {
          "output_type": "stream",
          "text": [
            "Train loss at 0 is 0.02021796628832817\n",
            "Train loss at 100 is 0.019037406891584396\n",
            "Train loss at 200 is 0.01798918843269348\n",
            "Train loss at 300 is 0.017052089795470238\n",
            "Train loss at 400 is 0.01620939001441002\n",
            "Train loss at 500 is 0.015447581186890602\n",
            "Train loss at 600 is 0.014757370576262474\n",
            "Train loss at 700 is 0.014128495939075947\n",
            "Train loss at 800 is 0.013552183285355568\n",
            "Train loss at 900 is 0.013021977618336678\n",
            "Train loss at 1000 is 0.012532505206763744\n",
            "Train loss at 1100 is 0.012079224921762943\n",
            "Train loss at 1200 is 0.011658348143100739\n",
            "Train loss at 1300 is 0.011266346089541912\n",
            "Train loss at 1400 is 0.010900299064815044\n",
            "Train loss at 1500 is 0.010557673871517181\n",
            "Train loss at 1600 is 0.010236275382339954\n",
            "Train loss at 1700 is 0.009934132918715477\n",
            "Train loss at 1800 is 0.00964963249862194\n",
            "Train loss at 1900 is 0.009381232783198357\n"
          ],
          "name": "stdout"
        }
      ]
    },
    {
      "cell_type": "code",
      "metadata": {
        "id": "SRS3S1vtJlq8",
        "colab_type": "code",
        "outputId": "85366b33-66c4-4a1b-a8db-982be1a116c4",
        "colab": {
          "base_uri": "https://localhost:8080/",
          "height": 34
        }
      },
      "source": [
        "# train모델에서 평가모델로 바꾸고 x_test와 y_test로 오차를 구한다. \n",
        "# ->오차가 0.003으로 매우 많이 줄었다.\n",
        "\n",
        "model.eval()\n",
        "test_loss = criterion(model(x_test).squeeze(), y_test) \n",
        "print('After Training, test loss is {}'.format(test_loss.item()))"
      ],
      "execution_count": 0,
      "outputs": [
        {
          "output_type": "stream",
          "text": [
            "After Training, test loss is 0.0033163174521178007\n"
          ],
          "name": "stdout"
        }
      ]
    },
    {
      "cell_type": "code",
      "metadata": {
        "id": "GcsIz3GXJrra",
        "colab_type": "code",
        "outputId": "1b13203c-10a4-4e6d-9c75-ddf63d26c556",
        "colab": {
          "base_uri": "https://localhost:8080/",
          "height": 125
        }
      },
      "source": [
        "#학습된 모델을 가중치 텐서와 평향 텐서로 표현하는 state_dict 함수 형태로 바꾼후 파이썬 형식으로 저장한다.\n",
        "\n",
        "torch.save(model.state_dict(), './model.pt')\n",
        "print('state_dict format of the model: {}'.format(model.state_dict()))"
      ],
      "execution_count": 0,
      "outputs": [
        {
          "output_type": "stream",
          "text": [
            "state_dict format of the model: OrderedDict([('linear_1.weight', tensor([[-0.0304,  0.0374],\n",
            "        [ 0.6067, -0.3241],\n",
            "        [-0.5429,  0.2352],\n",
            "        [ 0.3032, -0.1532],\n",
            "        [ 0.4456, -0.5222]])), ('linear_1.bias', tensor([ 0.5182, -0.3648,  0.2452,  0.5576, -0.6785])), ('linear_2.weight', tensor([[-0.4092,  0.3565, -0.2814, -0.3623, -0.0515]])), ('linear_2.bias', tensor([-0.1192]))])\n"
          ],
          "name": "stdout"
        }
      ]
    },
    {
      "cell_type": "code",
      "metadata": {
        "id": "Fo8nIJySJ8Al",
        "colab_type": "code",
        "outputId": "f4e8414f-fa2f-47dd-dc76-214440c029c1",
        "colab": {
          "base_uri": "https://localhost:8080/",
          "height": 34
        }
      },
      "source": [
        "#이제 언제든지 저장한 파일을 읽어들여 새로운 신경망 객체에 이미 학습된 모델의 가중치를 곧바로 적용할 수 있다.\n",
        "\n",
        "new_model = NeuralNet(2, 5)\n",
        "new_model.load_state_dict(torch.load('./model.pt'))\n",
        "new_model.eval()\n",
        "print('벡터 [-1, 1]이 레이블 1을 가질 확률은 {}'.format(new_model(torch.FloatTensor([-1,1])).item()))"
      ],
      "execution_count": 0,
      "outputs": [
        {
          "output_type": "stream",
          "text": [
            "벡터 [-1, 1]이 레이블 1을 가질 확률은 0.9979609251022339\n"
          ],
          "name": "stdout"
        }
      ]
    }
  ]
}